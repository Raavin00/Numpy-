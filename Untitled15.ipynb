{
  "nbformat": 4,
  "nbformat_minor": 0,
  "metadata": {
    "colab": {
      "provenance": [],
      "authorship_tag": "ABX9TyM6eJRyb03MW2GJOREqXvhr",
      "include_colab_link": true
    },
    "kernelspec": {
      "name": "python3",
      "display_name": "Python 3"
    },
    "language_info": {
      "name": "python"
    }
  },
  "cells": [
    {
      "cell_type": "markdown",
      "metadata": {
        "id": "view-in-github",
        "colab_type": "text"
      },
      "source": [
        "<a href=\"https://colab.research.google.com/github/Raavin00/Numpy-/blob/main/Untitled15.ipynb\" target=\"_parent\"><img src=\"https://colab.research.google.com/assets/colab-badge.svg\" alt=\"Open In Colab\"/></a>"
      ]
    },
    {
      "cell_type": "code",
      "execution_count": null,
      "metadata": {
        "id": "RjLwKyPi1Z3j"
      },
      "outputs": [],
      "source": [
        "import numpy as np\n",
        "a=np.array(\"raavin\")\n",
        "b=np.array([1,2,3])\n",
        "c=np.array([[1,2,3,4],[4,5,6,7]])\n",
        "print(a)\n",
        "print(b)\n",
        "print(c)\n",
        "print(a.shape,b.shape,c.shape)\n",
        "print(type(a))\n",
        "\n"
      ]
    },
    {
      "cell_type": "code",
      "source": [
        "!python --version\n",
        "a=np.array([1,2,3,4,5,6,7,8,9,10,11,12])\n",
        "b=np.array([1,2,3,4,5,6,7,8,9,10,11,12],ndmin=5)\n",
        "print(b)\n",
        "print(b.shape)\n",
        "print(a.ndim)\n",
        "a.reshape(2,3,2)\n"
      ],
      "metadata": {
        "id": "CavR8med3eQ2"
      },
      "execution_count": null,
      "outputs": []
    },
    {
      "cell_type": "code",
      "source": [
        "#Functions to create different arrays\n",
        "a=np.zeros((2,2))\n",
        "b=np.ones((2,2))\n",
        "c=np.full((2,2),7)\n",
        "d=np.eye(3)\n",
        "e=np.random.random((2,2))\n",
        "print(a)\n",
        "print(b)b=np.array([[1,2,3],[4,5,6]])\n",
        "print(c)\n",
        "print(d)b=np.array([[1,2,3],[4,5,6]])\n",
        "print(e)"
      ],
      "metadata": {
        "id": "Jt5XOawB4Kfx"
      },
      "execution_count": null,
      "outputs": []
    },
    {
      "cell_type": "code",
      "source": [
        "# slicing in arrays\n",
        "a=np.array([1,2,3,4,5,6])\n",
        "b=np.array([[1,2,3],[4,5,6]])\n",
        "# print(b[1,:4])\n",
        "# print(b[0:2,0])\n",
        "# print(b[0:2,:4])print(v[-1])\n",
        "# print(a[::-1])\n",
        "# print(a[::2])\n",
        "# print(a[::])\n",
        "d=np.array([[1,2,3,4],[5,6,7,8],[9,10,11,12]])\n",
        "# print(d[0:3,::-1])\n",
        "# print(d[0,:])\n",
        "q=d[:,0]\n",
        "print(np.sum(q))\n",
        "r=d[0,:]\n",
        "c=d[:,0]\n",
        "print(r,r.shape)\n",
        "print(c,c.shape)\n",
        "e=np.array([[1,2],[3,4],[5,6]])\n",
        "print(e.shapeb=np.array([[1,2,3],[4,5,6]]))"
      ],
      "metadata": {
        "id": "i7_AWpc-BJHy"
      },
      "execution_count": null,
      "outputs": []
    },
    {
      "cell_type": "code",
      "source": [
        "a=np.array([0,1,2,0])\n",
        "b=np.array([[1,2,3],[4,5,6],[7,8,9],[10,11,12]])\n",
        "print(b[:,a])\n",
        "bindex=(a>=0)print(v[-1])\n",
        "print(bindex)"
      ],
      "metadata": {
        "id": "SFtcPPASHExI"
      },
      "execution_count": null,
      "outputs": []
    },
    {
      "cell_type": "code",
      "source": [
        "#DataTypes\n",
        "x=np.array([[1,2],[3,4]],dtype=np.float64)\n",
        "y=np.array([1.0,2.0])\n",
        "z=np.array([1,2,3])\n",
        "print(x.dtype,y.dtype,z.dtype)\n",
        "b=np.array([\"23\",\"34\"])\n",
        "print(type(x))\n",
        "print(type(x),b.dtype)"
      ],
      "metadata": {
        "id": "VTVrM_QZJeci"
      },
      "execution_count": null,
      "outputs": []
    },
    {
      "cell_type": "code",
      "source": [
        "#Array Math\n",
        "x=np.array([[1,2,3],[3,4,5]])\n",
        "y=np.array([[6,7,8],[9,10,11]])\n",
        "print(x+y,np.add(x,y))\n",
        "print(np.sqrt(x))\n"
      ],
      "metadata": {
        "id": "rtf2d3JmNQhO"
      },
      "execution_count": null,
      "outputs": []
    },
    {
      "cell_type": "code",
      "source": [
        "v=np.array([10,20,30])\n",
        "w=np.array([2,3,4])\n",
        "z=np.array([1,2,3])\n",
        "s=np.array([[1,2,3],[4,5,6],[7,8,9]])\n",
        "print(np.dot(v,w))\n",
        "print(np.cross(w,z))\n",
        "print(s)\n",
        "print(s.T)\n",
        "print(np.arange(10))"
      ],
      "metadata": {
        "colab": {
          "base_uri": "https://localhost:8080/"
        },
        "id": "Us9itecqQi15",
        "outputId": "5fad1a1b-41fb-464d-f46b-62e06e801ff1"
      },
      "execution_count": 87,
      "outputs": [
        {
          "output_type": "stream",
          "name": "stdout",
          "text": [
            "200\n",
            "[ 1 -2  1]\n",
            "[[1 2 3]\n",
            " [4 5 6]\n",
            " [7 8 9]]\n",
            "[[1 4 7]\n",
            " [2 5 8]\n",
            " [3 6 9]]\n",
            "[0 1 2 3 4 5 6 7 8 9]\n"
          ]
        }
      ]
    }
  ]
}